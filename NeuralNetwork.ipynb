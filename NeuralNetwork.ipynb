{
 "cells": [
  {
   "cell_type": "code",
   "execution_count": 101,
   "metadata": {},
   "outputs": [],
   "source": [
    "import pandas as pd\n",
    "def read_data(s, delete_name):\n",
    "    '''\n",
    "    s, <string>, which dataset to access\n",
    "    delete_name, <set>, which features do not take into account\n",
    "    '''\n",
    "    if s=='test':\n",
    "        df = pd.read_csv('pro_data_test.csv', delimiter=',')\n",
    "    elif s=='train':\n",
    "        df = pd.read_csv('pro_data_train.csv', delimiter=',')\n",
    "    else:\n",
    "        return\n",
    "    columns = df.columns\n",
    "    for column in columns:\n",
    "        if column in delete_name:\n",
    "            del df[column]\n",
    "    #print(df.head())\n",
    "    feature_len = len(df.columns)-1\n",
    "    feature = df[df.columns[0:feature_len-1]]\n",
    "    label = df[df.columns[feature_len:feature_len+1]]\n",
    "    X = feature.values\n",
    "    Y_pre = label.values\n",
    "    Y = np.zeros((len(Y_pre), 2))\n",
    "    for j in range(len(Y_pre)):\n",
    "        if Y_pre[j] == [0]:\n",
    "            Y[j][0] = 1\n",
    "            Y[j][1] = 0\n",
    "        else:\n",
    "            Y[j][0] = 0\n",
    "            Y[j][1] = 1\n",
    "    return X, Y\n",
    "delete_name = {'fnlwgt', 'capital-gain', 'capital-loss'}\n",
    "X_train, Y_train = read_data('train', delete_name)\n",
    "X_test, Y_test = read_data('test', delete_name)"
   ]
  },
  {
   "cell_type": "code",
   "execution_count": 120,
   "metadata": {},
   "outputs": [],
   "source": [
    "import torch\n",
    "from IPython.core.debugger import set_trace\n",
    "import torch.nn as nn\n",
    "import torch.nn.functional as F\n",
    "\n",
    "class Net(nn.Module):\n",
    "\n",
    "    def __init__(self):\n",
    "        super(Net, self).__init__()\n",
    "        self.fc1 = nn.Linear(10, 70)\n",
    "        #self.fc2 = nn.Linear(50, 10)\n",
    "        self.fc3 = nn.Linear(70, 2)\n",
    "    \n",
    "    def forward(self, x):\n",
    "        x = F.relu(self.fc1(x))\n",
    "        #x = F.relu(self.fc2(x))\n",
    "        x = F.softmax(self.fc3(x), dim=1)\n",
    "        return x"
   ]
  },
  {
   "cell_type": "code",
   "execution_count": 121,
   "metadata": {
    "scrolled": false
   },
   "outputs": [
    {
     "name": "stdout",
     "output_type": "stream",
     "text": [
      "<class 'torch.Tensor'>\n",
      "tensor([[-0.2715, -1.7159, -0.0829,  0.7199,  0.0963, -0.9239, -1.5248,  0.4762,\n",
      "         -0.5726, -0.6019]])\n",
      "<class 'torch.Tensor'>\n",
      "tensor([59.,  1.,  4.,  9.,  1.,  2.,  3.,  1.,  2., 40.])\n",
      "tensor([[0.8843, 0.1157]], grad_fn=<SoftmaxBackward>)\n"
     ]
    }
   ],
   "source": [
    "net = Net()\n",
    "#params = list(net.parameters())\n",
    "\n",
    "\n",
    "input = torch.randn(1, 10)\n",
    "print(type(input))\n",
    "print(input)\n",
    "input = torch.from_numpy(np.array(X_train[0])).float()\n",
    "input = input.view(1, -1)\n",
    "print(type(input))\n",
    "print(input[0])\n",
    "out = net(input)\n",
    "print(out)\n",
    "\n",
    "#input = torch.from_numpy(X_train[0])\n",
    "#print(input)\n",
    "#out = net(input)\n",
    "#print(out)"
   ]
  },
  {
   "cell_type": "code",
   "execution_count": 122,
   "metadata": {},
   "outputs": [
    {
     "name": "stdout",
     "output_type": "stream",
     "text": [
      "tensor(0.7821, grad_fn=<MseLossBackward>)\n"
     ]
    }
   ],
   "source": [
    "output = net(input)\n",
    "target = torch.from_numpy(np.array(Y_train[0])).float()  # a dummy target, for example\n",
    "target = target.view(1, -1)  # make it the same shape as output\n",
    "criterion = nn.MSELoss()\n",
    "\n",
    "loss = criterion(output, target)\n",
    "print(loss)"
   ]
  },
  {
   "cell_type": "code",
   "execution_count": 123,
   "metadata": {
    "scrolled": false
   },
   "outputs": [
    {
     "name": "stdout",
     "output_type": "stream",
     "text": [
      "Epoch [1/10], Step [10000/30162], Loss: 0.0393\n",
      "Epoch [1/10], Step [20000/30162], Loss: 0.0003\n",
      "Epoch [1/10], Step [30000/30162], Loss: 0.5566\n",
      "Epoch [2/10], Step [10000/30162], Loss: 0.1074\n",
      "Epoch [2/10], Step [20000/30162], Loss: 0.1674\n",
      "Epoch [2/10], Step [30000/30162], Loss: 0.0063\n",
      "Epoch [3/10], Step [10000/30162], Loss: 0.0006\n",
      "Epoch [3/10], Step [20000/30162], Loss: 0.0337\n",
      "Epoch [3/10], Step [30000/30162], Loss: 0.2366\n",
      "Epoch [4/10], Step [10000/30162], Loss: 0.2021\n",
      "Epoch [4/10], Step [20000/30162], Loss: 0.0002\n",
      "Epoch [4/10], Step [30000/30162], Loss: 0.4544\n",
      "Epoch [5/10], Step [10000/30162], Loss: 0.0001\n",
      "Epoch [5/10], Step [20000/30162], Loss: 0.0001\n",
      "Epoch [5/10], Step [30000/30162], Loss: 0.0559\n",
      "Epoch [6/10], Step [10000/30162], Loss: 0.0003\n",
      "Epoch [6/10], Step [20000/30162], Loss: 0.0028\n",
      "Epoch [6/10], Step [30000/30162], Loss: 0.0076\n",
      "Epoch [7/10], Step [10000/30162], Loss: 0.0044\n",
      "Epoch [7/10], Step [20000/30162], Loss: 0.4848\n",
      "Epoch [7/10], Step [30000/30162], Loss: 0.0829\n",
      "Epoch [8/10], Step [10000/30162], Loss: 0.4081\n",
      "Epoch [8/10], Step [20000/30162], Loss: 0.0000\n",
      "Epoch [8/10], Step [30000/30162], Loss: 0.0324\n",
      "Epoch [9/10], Step [10000/30162], Loss: 0.0424\n",
      "Epoch [9/10], Step [20000/30162], Loss: 0.0922\n",
      "Epoch [9/10], Step [30000/30162], Loss: 0.0014\n",
      "Epoch [10/10], Step [10000/30162], Loss: 0.0062\n",
      "Epoch [10/10], Step [20000/30162], Loss: 0.1444\n",
      "Epoch [10/10], Step [30000/30162], Loss: 0.1750\n"
     ]
    }
   ],
   "source": [
    "import torch.optim as optim\n",
    "\n",
    "# create your optimizer\n",
    "#optimizer = optim.SGD(net.parameters(), lr=0.01)\n",
    "learning_rate = 1e-4\n",
    "optimizer = torch.optim.Adam(net.parameters(), lr=learning_rate)\n",
    "# create criterion\n",
    "criterion = nn.MSELoss()\n",
    "\n",
    "# number of epochs\n",
    "num_epochs = 10\n",
    "\n",
    "total_step = len(Y_train)\n",
    "\n",
    "# in your training loop:\n",
    "for epoch in range(num_epochs):\n",
    "    sf = np.arange(total_step)\n",
    "    #print(sf)\n",
    "    np.random.shuffle(sf)\n",
    "    #print(sf)\n",
    "    #print(X_train)\n",
    "    X_train, Y_train = X_train[sf], Y_train[sf]\n",
    "    #print(X_train)\n",
    "    for i, (x, y) in enumerate(zip(X_train, Y_train)):\n",
    "        input = torch.from_numpy(x).float()\n",
    "        input = input.view(1, -1)\n",
    "        target = torch.from_numpy(y).float()\n",
    "        target = target.view(1, -1)\n",
    "        \n",
    "        output = net(input)\n",
    "        loss = criterion(output, target)\n",
    "        \n",
    "        optimizer.zero_grad()\n",
    "        loss.backward()\n",
    "        optimizer.step()\n",
    "        \n",
    "        if (i+1) % 10000 == 0:\n",
    "            print ('Epoch [{}/{}], Step [{}/{}], Loss: {:.4f}' .format(epoch+1, num_epochs, i+1, total_step, loss.item()))"
   ]
  },
  {
   "cell_type": "code",
   "execution_count": 124,
   "metadata": {},
   "outputs": [
    {
     "name": "stdout",
     "output_type": "stream",
     "text": [
      "Accuracy: 81.18857901726427 %\n"
     ]
    }
   ],
   "source": [
    "with torch.no_grad():\n",
    "    correct = 0\n",
    "    total = 0\n",
    "    for x, y in zip(X_test, Y_test):\n",
    "        input = torch.from_numpy(x).float()\n",
    "        input = input.view(1, -1)\n",
    "        if y[0]==1:\n",
    "            target = torch.tensor([0])\n",
    "        else:\n",
    "            target = torch.tensor([1])\n",
    "        \n",
    "        output = net(input)\n",
    "        _, predicted = torch.max(output.data, 1)\n",
    "        total += 1\n",
    "        #print(predicted, target, y)\n",
    "        correct += (predicted == target).sum().item()\n",
    "        \n",
    "print('Accuracy: {} %'.format(100 * correct / total))"
   ]
  }
 ],
 "metadata": {
  "kernelspec": {
   "display_name": "Python 3",
   "language": "python",
   "name": "python3"
  },
  "language_info": {
   "codemirror_mode": {
    "name": "ipython",
    "version": 3
   },
   "file_extension": ".py",
   "mimetype": "text/x-python",
   "name": "python",
   "nbconvert_exporter": "python",
   "pygments_lexer": "ipython3",
   "version": "3.5.2"
  }
 },
 "nbformat": 4,
 "nbformat_minor": 2
}
