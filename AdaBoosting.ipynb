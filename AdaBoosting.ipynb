{
 "cells": [
  {
   "cell_type": "code",
   "execution_count": 71,
   "metadata": {},
   "outputs": [],
   "source": [
    "import pandas as pd\n",
    "import numpy as np\n",
    "\n",
    "class AdaBoosting:\n",
    "    def __init__(self, K):\n",
    "        self.K = K\n",
    "        self.w = []\n",
    "        pass\n",
    "    \n",
    "    def train(self, X_train, Y_train):\n",
    "        total = len(Y_train)\n",
    "        D = np.ones(total)/total\n",
    "        self.h = []\n",
    "        for k in range(self.K):\n",
    "            ds = DecisionStump()\n",
    "            ds.train(D, X_train, Y_train)\n",
    "            print('k=',k, ', feature=',ds.i, ds.b, ds.theta)\n",
    "            self.h.append(ds)\n",
    "            epsilon = ds.error_rate(D, X_train, Y_train)\n",
    "            self.w.append(np.log(1/epsilon - 1)/2)\n",
    "            D_total = 0\n",
    "            for j in range(total):\n",
    "                D_total = D_total + D[j] * np.exp(-self.w[k] * Y_train[j] * ds.output(X_train[j]))\n",
    "            for j in range(total):\n",
    "                D[j] = D[j] * np.exp(-self.w[k] * Y_train[j] * ds.output(X_train[j])) / D_total\n",
    "        pass\n",
    "    \n",
    "        \n",
    "    def output(self, X):\n",
    "        h_b = 0\n",
    "        for k in range(self.K):\n",
    "            h_b = h_b + self.w[k]*self.h[k].output(X)\n",
    "        return np.sign(h_b)\n",
    "    \n",
    "    def error_rate(self, X_test, Y_test):\n",
    "        error = 0\n",
    "        total = len(Y_test)\n",
    "        for j in range(total):\n",
    "            if self.output(X_test[j]) != Y_test[j]:\n",
    "                error = error + 1\n",
    "        return error/total\n",
    "\n",
    "\n",
    "class DecisionStump:\n",
    "    def __init__(self):\n",
    "        pass\n",
    "    \n",
    "    def train(self, D, X_train, Y_train):\n",
    "        data_train = np.concatenate((X_train, Y_train), axis=1)\n",
    "        feature_len = len(X_train[0])\n",
    "        best_rate = len(Y_train)\n",
    "        for feature in range(feature_len):\n",
    "            sort_data = data_train[data_train[:,feature].argsort()]\n",
    "            theta_crt = sort_data[0][feature] - 1\n",
    "            l0 = 0\n",
    "            l1 = 1\n",
    "            r0 = 0\n",
    "            r1 = 0\n",
    "            for m in range(len(Y_train)):\n",
    "                if data_train[m][feature_len] == 0:\n",
    "                    r0 = r0 + D[m]\n",
    "                else:\n",
    "                    r1 = r1 + D[m]\n",
    "            if r0<r1:\n",
    "                i = feature\n",
    "                b = 1\n",
    "                theta = theta_crt\n",
    "                best_rate = r0\n",
    "            else:\n",
    "                i = feature\n",
    "                b = -1\n",
    "                theta = theta_crt\n",
    "                best_rate = r1\n",
    "            \n",
    "            j = 0\n",
    "            while j < len(sort_data):\n",
    "                theta_crt = sort_data[j][feature]\n",
    "                while j < len(sort_data) and theta_crt==sort_data[j][feature]:\n",
    "                    if sort_data[j][feature_len] == 0:\n",
    "                        l0 = l0 + D[j]\n",
    "                        r0 = r0 - D[j]\n",
    "                    else:\n",
    "                        l1 = l1 + D[j]\n",
    "                        r1 = r1 - D[j]\n",
    "                    j = j + 1\n",
    "                if best_rate > l1 + r0:\n",
    "                    i = feature\n",
    "                    b = 1\n",
    "                    theta = theta_crt\n",
    "                    best_rate = l1 + r0\n",
    "                if best_rate > l0 + r1:\n",
    "                    i = feature\n",
    "                    b = -1\n",
    "                    theta = theta_crt\n",
    "                    best_rate = l0 + r1\n",
    "            #print(best_rate, i, theta, b)\n",
    "        \n",
    "        self.i = i\n",
    "        self.theta = theta\n",
    "        self.b = b\n",
    "        \n",
    "    def output(self, X):\n",
    "        if X[self.i]- self.theta>0:\n",
    "            return max(self.b, 0)\n",
    "        else:\n",
    "            return max(0, -self.b)\n",
    "    \n",
    "    def error_rate(self, D, X_test, Y_test):\n",
    "        error = 0\n",
    "        total = len(Y_test)\n",
    "        for j in range(total):\n",
    "            if self.output(X_test[j]) != Y_test[j]:\n",
    "                error = error + D[j]\n",
    "        return error"
   ]
  },
  {
   "cell_type": "code",
   "execution_count": 72,
   "metadata": {},
   "outputs": [
    {
     "name": "stdout",
     "output_type": "stream",
     "text": [
      "k= 0 , feature= 9 -1 0\n",
      "k= 1 , feature= 9 -1 0\n",
      "k= 2 , feature= 9 -1 0\n",
      "k= 3 , feature= 9 -1 0\n",
      "k= 4 , feature= 9 -1 0\n",
      "k= 5 , feature= 9 -1 0\n",
      "k= 6 , feature= 9 -1 0\n",
      "k= 7 , feature= 9 -1 0\n",
      "k= 8 , feature= 9 -1 0\n",
      "k= 9 , feature= 9 -1 0\n",
      "k= 10 , feature= 9 -1 0\n",
      "k= 11 , feature= 9 -1 0\n"
     ]
    },
    {
     "ename": "KeyboardInterrupt",
     "evalue": "",
     "output_type": "error",
     "traceback": [
      "\u001b[0;31m---------------------------------------------------------------------------\u001b[0m",
      "\u001b[0;31mKeyboardInterrupt\u001b[0m                         Traceback (most recent call last)",
      "\u001b[0;32m<ipython-input-72-7e2c76de9a23>\u001b[0m in \u001b[0;36m<module>\u001b[0;34m()\u001b[0m\n\u001b[1;32m      1\u001b[0m \u001b[0mab\u001b[0m \u001b[0;34m=\u001b[0m \u001b[0mAdaBoosting\u001b[0m\u001b[0;34m(\u001b[0m\u001b[0;36m15\u001b[0m\u001b[0;34m)\u001b[0m\u001b[0;34m\u001b[0m\u001b[0m\n\u001b[0;32m----> 2\u001b[0;31m \u001b[0mab\u001b[0m\u001b[0;34m.\u001b[0m\u001b[0mtrain\u001b[0m\u001b[0;34m(\u001b[0m\u001b[0mX_train\u001b[0m\u001b[0;34m,\u001b[0m \u001b[0mY_train\u001b[0m\u001b[0;34m)\u001b[0m\u001b[0;34m\u001b[0m\u001b[0m\n\u001b[0m\u001b[1;32m      3\u001b[0m \u001b[0mprint\u001b[0m\u001b[0;34m(\u001b[0m\u001b[0mab\u001b[0m\u001b[0;34m.\u001b[0m\u001b[0merror_rate\u001b[0m\u001b[0;34m(\u001b[0m\u001b[0mX_test\u001b[0m\u001b[0;34m,\u001b[0m \u001b[0mY_test\u001b[0m\u001b[0;34m)\u001b[0m\u001b[0;34m)\u001b[0m\u001b[0;34m\u001b[0m\u001b[0m\n",
      "\u001b[0;32m<ipython-input-71-7a642d44e5fb>\u001b[0m in \u001b[0;36mtrain\u001b[0;34m(self, X_train, Y_train)\u001b[0m\n\u001b[1;32m     14\u001b[0m         \u001b[0;32mfor\u001b[0m \u001b[0mk\u001b[0m \u001b[0;32min\u001b[0m \u001b[0mrange\u001b[0m\u001b[0;34m(\u001b[0m\u001b[0mself\u001b[0m\u001b[0;34m.\u001b[0m\u001b[0mK\u001b[0m\u001b[0;34m)\u001b[0m\u001b[0;34m:\u001b[0m\u001b[0;34m\u001b[0m\u001b[0m\n\u001b[1;32m     15\u001b[0m             \u001b[0mds\u001b[0m \u001b[0;34m=\u001b[0m \u001b[0mDecisionStump\u001b[0m\u001b[0;34m(\u001b[0m\u001b[0;34m)\u001b[0m\u001b[0;34m\u001b[0m\u001b[0m\n\u001b[0;32m---> 16\u001b[0;31m             \u001b[0mds\u001b[0m\u001b[0;34m.\u001b[0m\u001b[0mtrain\u001b[0m\u001b[0;34m(\u001b[0m\u001b[0mD\u001b[0m\u001b[0;34m,\u001b[0m \u001b[0mX_train\u001b[0m\u001b[0;34m,\u001b[0m \u001b[0mY_train\u001b[0m\u001b[0;34m)\u001b[0m\u001b[0;34m\u001b[0m\u001b[0m\n\u001b[0m\u001b[1;32m     17\u001b[0m             \u001b[0mprint\u001b[0m\u001b[0;34m(\u001b[0m\u001b[0;34m'k='\u001b[0m\u001b[0;34m,\u001b[0m\u001b[0mk\u001b[0m\u001b[0;34m,\u001b[0m \u001b[0;34m', feature='\u001b[0m\u001b[0;34m,\u001b[0m\u001b[0mds\u001b[0m\u001b[0;34m.\u001b[0m\u001b[0mi\u001b[0m\u001b[0;34m,\u001b[0m \u001b[0mds\u001b[0m\u001b[0;34m.\u001b[0m\u001b[0mb\u001b[0m\u001b[0;34m,\u001b[0m \u001b[0mds\u001b[0m\u001b[0;34m.\u001b[0m\u001b[0mtheta\u001b[0m\u001b[0;34m)\u001b[0m\u001b[0;34m\u001b[0m\u001b[0m\n\u001b[1;32m     18\u001b[0m             \u001b[0mself\u001b[0m\u001b[0;34m.\u001b[0m\u001b[0mh\u001b[0m\u001b[0;34m.\u001b[0m\u001b[0mappend\u001b[0m\u001b[0;34m(\u001b[0m\u001b[0mds\u001b[0m\u001b[0;34m)\u001b[0m\u001b[0;34m\u001b[0m\u001b[0m\n",
      "\u001b[0;32m<ipython-input-71-7a642d44e5fb>\u001b[0m in \u001b[0;36mtrain\u001b[0;34m(self, D, X_train, Y_train)\u001b[0m\n\u001b[1;32m     51\u001b[0m         \u001b[0mbest_rate\u001b[0m \u001b[0;34m=\u001b[0m \u001b[0mlen\u001b[0m\u001b[0;34m(\u001b[0m\u001b[0mY_train\u001b[0m\u001b[0;34m)\u001b[0m\u001b[0;34m\u001b[0m\u001b[0m\n\u001b[1;32m     52\u001b[0m         \u001b[0;32mfor\u001b[0m \u001b[0mfeature\u001b[0m \u001b[0;32min\u001b[0m \u001b[0mrange\u001b[0m\u001b[0;34m(\u001b[0m\u001b[0mfeature_len\u001b[0m\u001b[0;34m)\u001b[0m\u001b[0;34m:\u001b[0m\u001b[0;34m\u001b[0m\u001b[0m\n\u001b[0;32m---> 53\u001b[0;31m             \u001b[0msort_data\u001b[0m \u001b[0;34m=\u001b[0m \u001b[0mdata_train\u001b[0m\u001b[0;34m[\u001b[0m\u001b[0mdata_train\u001b[0m\u001b[0;34m[\u001b[0m\u001b[0;34m:\u001b[0m\u001b[0;34m,\u001b[0m\u001b[0mfeature\u001b[0m\u001b[0;34m]\u001b[0m\u001b[0;34m.\u001b[0m\u001b[0margsort\u001b[0m\u001b[0;34m(\u001b[0m\u001b[0;34m)\u001b[0m\u001b[0;34m]\u001b[0m\u001b[0;34m\u001b[0m\u001b[0m\n\u001b[0m\u001b[1;32m     54\u001b[0m             \u001b[0mtheta_crt\u001b[0m \u001b[0;34m=\u001b[0m \u001b[0msort_data\u001b[0m\u001b[0;34m[\u001b[0m\u001b[0;36m0\u001b[0m\u001b[0;34m]\u001b[0m\u001b[0;34m[\u001b[0m\u001b[0mfeature\u001b[0m\u001b[0;34m]\u001b[0m \u001b[0;34m-\u001b[0m \u001b[0;36m1\u001b[0m\u001b[0;34m\u001b[0m\u001b[0m\n\u001b[1;32m     55\u001b[0m             \u001b[0ml0\u001b[0m \u001b[0;34m=\u001b[0m \u001b[0;36m0\u001b[0m\u001b[0;34m\u001b[0m\u001b[0m\n",
      "\u001b[0;31mKeyboardInterrupt\u001b[0m: "
     ]
    }
   ],
   "source": [
    "ab = AdaBoosting(15)\n",
    "ab.train(X_train, Y_train)\n",
    "print(ab.error_rate(X_test, Y_test))"
   ]
  },
  {
   "cell_type": "code",
   "execution_count": 60,
   "metadata": {},
   "outputs": [
    {
     "name": "stdout",
     "output_type": "stream",
     "text": [
      "[3.31543001e-05 3.31543001e-05 3.31543001e-05 ... 3.31543001e-05\n",
      " 3.31543001e-05 3.31543001e-05]\n",
      "0\n",
      "0.2489224852463116 0 16 -1\n",
      "1\n",
      "0.2489224852463116 1 0 -1\n",
      "2\n",
      "0.2489224852463116 2 0 -1\n",
      "3\n",
      "0.2489224852463116 3 0 -1\n",
      "4\n",
      "0.2489224852463116 4 0 -1\n",
      "5\n",
      "0.2489224852463116 5 0 -1\n",
      "6\n",
      "0.2489224852463116 6 0 -1\n",
      "7\n",
      "0.2489224852463116 7 0 -1\n",
      "8\n",
      "0.2489224852463116 8 0 -1\n",
      "9\n",
      "0.2489224852463116 9 0 -1\n",
      "22654\n",
      "7508\n",
      "0.24568393094291138\n"
     ]
    }
   ],
   "source": [
    "ds = DecisionStump()\n",
    "D = np.ones(len(Y_train))/len(Y_train)\n",
    "print(D)\n",
    "ds.train(D, X_train, Y_train)\n",
    "print(len(Y_train[Y_train[:,0]==0]))\n",
    "print(len(Y_train[Y_train[:,0]==1]))\n",
    "print(ds.error_rate(np.ones(len(Y_test))/len(Y_test), X_test, Y_test))"
   ]
  },
  {
   "cell_type": "code",
   "execution_count": 4,
   "metadata": {},
   "outputs": [],
   "source": [
    "import pandas as pd\n",
    "def read_data(s, delete_name):\n",
    "    '''\n",
    "    s, <string>, which dataset to access\n",
    "    delete_name, <set>, which features do not take into account\n",
    "    '''\n",
    "    if s=='test':\n",
    "        df = pd.read_csv('pro_data_test.csv', delimiter=',')\n",
    "    elif s=='train':\n",
    "        df = pd.read_csv('pro_data_train.csv', delimiter=',')\n",
    "    else:\n",
    "        return\n",
    "    columns = df.columns\n",
    "    for column in columns:\n",
    "        if column in delete_name:\n",
    "            del df[column]\n",
    "    #print(df.head())\n",
    "    feature_len = len(df.columns)-1\n",
    "    feature = df[df.columns[0:feature_len-1]]\n",
    "    label = df[df.columns[feature_len:feature_len+1]]\n",
    "    X = feature.values\n",
    "    Y = label.values\n",
    "    return X, Y"
   ]
  },
  {
   "cell_type": "code",
   "execution_count": 5,
   "metadata": {},
   "outputs": [],
   "source": [
    "delete_name = {'fnlwgt', 'capital-gain', 'capital-loss'}\n",
    "X_train, Y_train = read_data('train', delete_name)\n",
    "X_test, Y_test = read_data('test', delete_name)\n",
    "#print(len(X_train[0]), len(X_test[0]))"
   ]
  },
  {
   "cell_type": "code",
   "execution_count": 11,
   "metadata": {},
   "outputs": [
    {
     "name": "stdout",
     "output_type": "stream",
     "text": [
      "(15060, 10)\n",
      "(15060, 1)\n",
      "(15060, 11)\n",
      "[[25  1  3  7  3  8  2  5  2 40]\n",
      " [38  1  4  9  1 10  3  1  2 50]\n",
      " [28  5  6 12  1 13  3  1  2 40]]\n",
      "[[0]\n",
      " [0]\n",
      " [1]]\n",
      "[[25  1  3  7  3  8  2  5  2 40  0]\n",
      " [38  1  4  9  1 10  3  1  2 50  0]\n",
      " [28  5  6 12  1 13  3  1  2 40  1]]\n"
     ]
    },
    {
     "data": {
      "text/plain": [
       "array([ 7529,  6438,  6443, ..., 13100, 10607, 14354])"
      ]
     },
     "execution_count": 11,
     "metadata": {},
     "output_type": "execute_result"
    }
   ],
   "source": [
    "print(X_test.shape)\n",
    "print(Y_test.shape)\n",
    "test = np.concatenate((X_test, Y_test), axis=1)\n",
    "print(test.shape)\n",
    "print(X_test[0:3])\n",
    "print(Y_test[0:3])\n",
    "print(test[0:3])\n",
    "test[:,2].argsort()\n",
    "#print(test[0:3])"
   ]
  },
  {
   "cell_type": "code",
   "execution_count": 38,
   "metadata": {},
   "outputs": [
    {
     "name": "stderr",
     "output_type": "stream",
     "text": [
      "/Users/ruida/anaconda3/lib/python3.6/site-packages/ipykernel_launcher.py:1: ParserWarning: Falling back to the 'python' engine because the 'c' engine does not support regex separators (separators > 1 char and different from '\\s+' are interpreted as regex); you can avoid this warning by specifying engine='python'.\n",
      "  \"\"\"Entry point for launching an IPython kernel.\n"
     ]
    },
    {
     "name": "stdout",
     "output_type": "stream",
     "text": [
      "(24719, 15)\n",
      "(32560, 15)\n"
     ]
    }
   ],
   "source": [
    "dataf = pd.read_csv('adult.csv', delimiter=', ')\n",
    "print(dataf[dataf['<=50K'] == '<=50K'].shape)\n",
    "print(dataf.shape)"
   ]
  },
  {
   "cell_type": "code",
   "execution_count": 55,
   "metadata": {},
   "outputs": [
    {
     "name": "stdout",
     "output_type": "stream",
     "text": [
      "[3.31543001e-05 3.31543001e-05 3.31543001e-05 ... 3.31543001e-05\n",
      " 3.31543001e-05 3.31543001e-05]\n",
      "0\n",
      "0.2489224852463116 0 16 -1\n",
      "1\n",
      "0.2489224852463116 1 0 -1\n",
      "2\n",
      "0.2489224852463116 2 0 -1\n",
      "3\n",
      "0.2489224852463116 3 0 -1\n",
      "4\n",
      "0.2489224852463116 4 0 -1\n",
      "5\n",
      "0.2489224852463116 5 0 -1\n",
      "6\n",
      "0.2489224852463116 6 0 -1\n",
      "7\n",
      "0.2489224852463116 7 0 -1\n",
      "8\n",
      "0.2489224852463116 8 0 -1\n",
      "9\n",
      "0.2489224852463116 9 0 -1\n",
      "22654\n",
      "7508\n"
     ]
    },
    {
     "ename": "NameError",
     "evalue": "name 'K' is not defined",
     "output_type": "error",
     "traceback": [
      "\u001b[0;31m---------------------------------------------------------------------------\u001b[0m",
      "\u001b[0;31mNameError\u001b[0m                                 Traceback (most recent call last)",
      "\u001b[0;32m<ipython-input-55-affd69d3e89c>\u001b[0m in \u001b[0;36m<module>\u001b[0;34m()\u001b[0m\n\u001b[1;32m      5\u001b[0m \u001b[0mprint\u001b[0m\u001b[0;34m(\u001b[0m\u001b[0mlen\u001b[0m\u001b[0;34m(\u001b[0m\u001b[0mY_train\u001b[0m\u001b[0;34m[\u001b[0m\u001b[0mY_train\u001b[0m\u001b[0;34m[\u001b[0m\u001b[0;34m:\u001b[0m\u001b[0;34m,\u001b[0m\u001b[0;36m0\u001b[0m\u001b[0;34m]\u001b[0m\u001b[0;34m==\u001b[0m\u001b[0;36m0\u001b[0m\u001b[0;34m]\u001b[0m\u001b[0;34m)\u001b[0m\u001b[0;34m)\u001b[0m\u001b[0;34m\u001b[0m\u001b[0m\n\u001b[1;32m      6\u001b[0m \u001b[0mprint\u001b[0m\u001b[0;34m(\u001b[0m\u001b[0mlen\u001b[0m\u001b[0;34m(\u001b[0m\u001b[0mY_train\u001b[0m\u001b[0;34m[\u001b[0m\u001b[0mY_train\u001b[0m\u001b[0;34m[\u001b[0m\u001b[0;34m:\u001b[0m\u001b[0;34m,\u001b[0m\u001b[0;36m0\u001b[0m\u001b[0;34m]\u001b[0m\u001b[0;34m==\u001b[0m\u001b[0;36m1\u001b[0m\u001b[0;34m]\u001b[0m\u001b[0;34m)\u001b[0m\u001b[0;34m)\u001b[0m\u001b[0;34m\u001b[0m\u001b[0m\n\u001b[0;32m----> 7\u001b[0;31m \u001b[0mprint\u001b[0m\u001b[0;34m(\u001b[0m\u001b[0mab\u001b[0m\u001b[0;34m.\u001b[0m\u001b[0merror_rate\u001b[0m\u001b[0;34m(\u001b[0m\u001b[0mX_test\u001b[0m\u001b[0;34m,\u001b[0m \u001b[0mY_test\u001b[0m\u001b[0;34m)\u001b[0m\u001b[0;34m)\u001b[0m\u001b[0;34m\u001b[0m\u001b[0m\n\u001b[0m",
      "\u001b[0;32m<ipython-input-53-5812fe48bb0a>\u001b[0m in \u001b[0;36merror_rate\u001b[0;34m(self, X_test, Y_test)\u001b[0m\n\u001b[1;32m     36\u001b[0m         \u001b[0mtotal\u001b[0m \u001b[0;34m=\u001b[0m \u001b[0mlen\u001b[0m\u001b[0;34m(\u001b[0m\u001b[0mY_test\u001b[0m\u001b[0;34m)\u001b[0m\u001b[0;34m\u001b[0m\u001b[0m\n\u001b[1;32m     37\u001b[0m         \u001b[0;32mfor\u001b[0m \u001b[0mj\u001b[0m \u001b[0;32min\u001b[0m \u001b[0mrange\u001b[0m\u001b[0;34m(\u001b[0m\u001b[0mtotal\u001b[0m\u001b[0;34m)\u001b[0m\u001b[0;34m:\u001b[0m\u001b[0;34m\u001b[0m\u001b[0m\n\u001b[0;32m---> 38\u001b[0;31m             \u001b[0;32mif\u001b[0m \u001b[0mself\u001b[0m\u001b[0;34m.\u001b[0m\u001b[0moutput\u001b[0m\u001b[0;34m(\u001b[0m\u001b[0mX_test\u001b[0m\u001b[0;34m[\u001b[0m\u001b[0mj\u001b[0m\u001b[0;34m]\u001b[0m\u001b[0;34m)\u001b[0m \u001b[0;34m!=\u001b[0m \u001b[0mY_test\u001b[0m\u001b[0;34m[\u001b[0m\u001b[0mj\u001b[0m\u001b[0;34m]\u001b[0m\u001b[0;34m:\u001b[0m\u001b[0;34m\u001b[0m\u001b[0m\n\u001b[0m\u001b[1;32m     39\u001b[0m                 \u001b[0merror\u001b[0m \u001b[0;34m=\u001b[0m \u001b[0merror\u001b[0m \u001b[0;34m+\u001b[0m \u001b[0;36m1\u001b[0m\u001b[0;34m\u001b[0m\u001b[0m\n\u001b[1;32m     40\u001b[0m         \u001b[0;32mreturn\u001b[0m \u001b[0merror\u001b[0m\u001b[0;34m/\u001b[0m\u001b[0mtotal\u001b[0m\u001b[0;34m\u001b[0m\u001b[0m\n",
      "\u001b[0;32m<ipython-input-53-5812fe48bb0a>\u001b[0m in \u001b[0;36moutput\u001b[0;34m(self, X)\u001b[0m\n\u001b[1;32m     28\u001b[0m     \u001b[0;32mdef\u001b[0m \u001b[0moutput\u001b[0m\u001b[0;34m(\u001b[0m\u001b[0mself\u001b[0m\u001b[0;34m,\u001b[0m \u001b[0mX\u001b[0m\u001b[0;34m)\u001b[0m\u001b[0;34m:\u001b[0m\u001b[0;34m\u001b[0m\u001b[0m\n\u001b[1;32m     29\u001b[0m         \u001b[0mh_b\u001b[0m \u001b[0;34m=\u001b[0m \u001b[0;36m0\u001b[0m\u001b[0;34m\u001b[0m\u001b[0m\n\u001b[0;32m---> 30\u001b[0;31m         \u001b[0;32mfor\u001b[0m \u001b[0mk\u001b[0m \u001b[0;32min\u001b[0m \u001b[0mrange\u001b[0m\u001b[0;34m(\u001b[0m\u001b[0mK\u001b[0m\u001b[0;34m)\u001b[0m\u001b[0;34m:\u001b[0m\u001b[0;34m\u001b[0m\u001b[0m\n\u001b[0m\u001b[1;32m     31\u001b[0m             \u001b[0mh_b\u001b[0m \u001b[0;34m=\u001b[0m \u001b[0mh_b\u001b[0m \u001b[0;34m+\u001b[0m \u001b[0mself\u001b[0m\u001b[0;34m.\u001b[0m\u001b[0mw\u001b[0m\u001b[0;34m[\u001b[0m\u001b[0mk\u001b[0m\u001b[0;34m]\u001b[0m\u001b[0;34m*\u001b[0m\u001b[0mself\u001b[0m\u001b[0;34m.\u001b[0m\u001b[0mh\u001b[0m\u001b[0;34m[\u001b[0m\u001b[0mk\u001b[0m\u001b[0;34m]\u001b[0m\u001b[0;34m.\u001b[0m\u001b[0moutput\u001b[0m\u001b[0;34m(\u001b[0m\u001b[0mX\u001b[0m\u001b[0;34m)\u001b[0m\u001b[0;34m\u001b[0m\u001b[0m\n\u001b[1;32m     32\u001b[0m         \u001b[0;32mreturn\u001b[0m \u001b[0mnp\u001b[0m\u001b[0;34m.\u001b[0m\u001b[0msign\u001b[0m\u001b[0;34m(\u001b[0m\u001b[0mh_b\u001b[0m\u001b[0;34m)\u001b[0m\u001b[0;34m\u001b[0m\u001b[0m\n",
      "\u001b[0;31mNameError\u001b[0m: name 'K' is not defined"
     ]
    }
   ],
   "source": []
  },
  {
   "cell_type": "code",
   "execution_count": null,
   "metadata": {},
   "outputs": [],
   "source": []
  }
 ],
 "metadata": {
  "kernelspec": {
   "display_name": "Python 3",
   "language": "python",
   "name": "python3"
  },
  "language_info": {
   "codemirror_mode": {
    "name": "ipython",
    "version": 3
   },
   "file_extension": ".py",
   "mimetype": "text/x-python",
   "name": "python",
   "nbconvert_exporter": "python",
   "pygments_lexer": "ipython3",
   "version": "3.6.5"
  }
 },
 "nbformat": 4,
 "nbformat_minor": 2
}
